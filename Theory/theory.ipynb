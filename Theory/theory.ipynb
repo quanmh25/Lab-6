{
 "cells": [
  {
   "cell_type": "markdown",
   "id": "d435c364",
   "metadata": {},
   "source": [
    "https://www.youtube.com/watch?v=KTg7XKvlgY8"
   ]
  },
  {
   "cell_type": "markdown",
   "id": "9c0e565f",
   "metadata": {},
   "source": [
    "4 nguyên tắc:\n",
    "\n",
    "Inheritance (Tính kế thừa)\n",
    "\n",
    "Polymorphism (Tính đa hình) - hỗ trợ cho Inheritance\n",
    "\n",
    "Encapsulation (Tính đóng gói) - bảo mật và ổn định cho dữ liệu\n",
    "\n",
    "Abstraction (Tính trừu tượng)\n"
   ]
  },
  {
   "cell_type": "markdown",
   "id": "cb46e1ff",
   "metadata": {},
   "source": [
    "Inheritance"
   ]
  },
  {
   "cell_type": "code",
   "execution_count": 2,
   "id": "1af6fbef",
   "metadata": {},
   "outputs": [
    {
     "name": "stdout",
     "output_type": "stream",
     "text": [
      "2 idol gioi tre Ngo Ba Kha va Tien Bip dang o Trong tu\n",
      "Ao that day!\n"
     ]
    }
   ],
   "source": [
    "class idol:\n",
    "    def __init__(self, name, age, appearance):\n",
    "        self.name = name\n",
    "        self.age = age\n",
    "        self.appearance = appearance\n",
    "\n",
    "class Khabanh(idol):\n",
    "    def __init__(self, name, age, appearance, location):\n",
    "        super().__init__(name, age, appearance)\n",
    "        self.location = location\n",
    "    def livestream(self):        # Method\n",
    "        pass\n",
    "    def signatureQuote(self):\n",
    "        print(\"Ao that day!\")\n",
    "\n",
    "class Tienbip(idol):\n",
    "    def livestream(self):\n",
    "        pass\n",
    "    def signatureQuote(self):\n",
    "        print(\"Con cai nit.\")\n",
    "\n",
    "kb = Khabanh(\"Ngo Ba Kha\", 30, \"Dau moi\", \"Trong tu\")\n",
    "tb = Tienbip(\"Tien Bip\", 40, \"Dou troc\")\n",
    "\n",
    "print(f\"2 idol gioi tre {kb.name} va {tb.name} dang o {kb.location}\")\n",
    "kb.signatureQuote()\n",
    "\n"
   ]
  },
  {
   "cell_type": "markdown",
   "id": "7d1b4810",
   "metadata": {},
   "source": [
    "Encapsulation\n",
    "\n",
    "Giúp bảo toàn thông tin gốc trong class. Vì biết đâu có thằng nó đó chỉnh tuổi của anh Khá bằng cách gán nó "
   ]
  },
  {
   "cell_type": "code",
   "execution_count": 5,
   "id": "1abc4db7",
   "metadata": {},
   "outputs": [
    {
     "name": "stdout",
     "output_type": "stream",
     "text": [
      "toc nhu l\n"
     ]
    }
   ],
   "source": [
    "class Khabanh:\n",
    "    def __init__(self, name, age, appearance):\n",
    "        self.name = name\n",
    "        self.age = age  \n",
    "        self.appearance = appearance \n",
    "kb = Khabanh(\"Ngo Ba Kha\", 30, \"Dau cat moi\")\n",
    "kb.appearance = \"toc nhu l\"  # 1 người nào đó vì không thích anh Bảnh nên đã chỉnh \n",
    "print(kb.appearance)\n",
    "\n",
    "\n"
   ]
  },
  {
   "cell_type": "code",
   "execution_count": 7,
   "id": "4c235a30",
   "metadata": {},
   "outputs": [
    {
     "name": "stdout",
     "output_type": "stream",
     "text": [
      "Dau cat moi\n"
     ]
    }
   ],
   "source": [
    "class Khabanh:\n",
    "    def __init__(self, name, age, appearance):\n",
    "        self.name = name\n",
    "        self.age = age  \n",
    "        self.__appearance = appearance #Set private variable\n",
    "    def getAppearance(self): #Hàm lấy thông tintin\n",
    "        return self.__appearance\n",
    "    def setAppearance(self, value): #Hàm sửa thông tintin\n",
    "        self.__appearance = value\n",
    "\n",
    "kb = Khabanh(\"Ngo Ba Kha\", 30, \"Dau cat moi\")\n",
    "# print(kb.__appearance) # Sẽ bị lỗi vì đã gán private\n",
    "print(kb.getAppearance())\n"
   ]
  },
  {
   "cell_type": "markdown",
   "id": "3bf5e727",
   "metadata": {},
   "source": [
    "Abstraction"
   ]
  },
  {
   "cell_type": "code",
   "execution_count": null,
   "id": "5a3adc02",
   "metadata": {},
   "outputs": [],
   "source": []
  }
 ],
 "metadata": {
  "kernelspec": {
   "display_name": "Python 3",
   "language": "python",
   "name": "python3"
  },
  "language_info": {
   "codemirror_mode": {
    "name": "ipython",
    "version": 3
   },
   "file_extension": ".py",
   "mimetype": "text/x-python",
   "name": "python",
   "nbconvert_exporter": "python",
   "pygments_lexer": "ipython3",
   "version": "3.12.6"
  }
 },
 "nbformat": 4,
 "nbformat_minor": 5
}
