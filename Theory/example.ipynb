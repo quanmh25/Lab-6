{
 "cells": [
  {
   "cell_type": "markdown",
   "id": "614f8f76",
   "metadata": {},
   "source": [
    "https://www.youtube.com/playlist?list=PLFyAEmibWSQCCoJmW0hpBMSlM8NMoMtWg"
   ]
  },
  {
   "cell_type": "markdown",
   "id": "4982f524",
   "metadata": {},
   "source": [
    "# #1: CLASS, INSTANCE, CONSTRUCTOR"
   ]
  },
  {
   "cell_type": "code",
   "execution_count": 41,
   "id": "76efce3a",
   "metadata": {},
   "outputs": [],
   "source": [
    "class car:\n",
    "    def __init__(self, year, origin):       # Constructor\n",
    "        self.year = year\n",
    "        self.origin = origin\n",
    "mercedes = car(1990, \"Germany\")     # Instance\n",
    "vinfast = car(2020, \"Vietnam\")"
   ]
  },
  {
   "cell_type": "markdown",
   "id": "6febf5be",
   "metadata": {},
   "source": [
    "# #2: CLASS VARIABLES AND INSTANCE VARIABLES"
   ]
  },
  {
   "cell_type": "code",
   "execution_count": 42,
   "id": "361efce8",
   "metadata": {},
   "outputs": [
    {
     "name": "stdout",
     "output_type": "stream",
     "text": [
      "Price of i320 is 1400$\n",
      "Price of lx3 is 1000$\n",
      "{'__module__': '__main__', 'tax': 1, '__init__': <function Car.__init__ at 0x0000016864DDCB80>, 'getValue': <function Car.getValue at 0x0000016864DDC540>, '__dict__': <attribute '__dict__' of 'Car' objects>, '__weakref__': <attribute '__weakref__' of 'Car' objects>, '__doc__': None}\n"
     ]
    }
   ],
   "source": [
    "class Car:\n",
    "    tax = 1\n",
    "    def __init__(self, year, model, price):\n",
    "        self.year = year\n",
    "        self.model = model\n",
    "        self.price = price\n",
    "        # self.car_num += 1    # Instance variable\n",
    "        # Car.car_number += 1  # Class variable\n",
    "    def getValue(self):\n",
    "        # return (self.price * Car.tax)\n",
    "        return (self.price * self.tax)\n",
    "    \n",
    "bmw = Car(1990, \"i320\", 700)\n",
    "vin = Car(2020, \"lx3\", 1000)\n",
    "bmw.tax = 2 # gán giá trị thuế riêng của từng xexe\n",
    "print(f\"Price of {bmw.model} is {bmw.getValue()}$\")\n",
    "print(f\"Price of {vin.model} is {vin.getValue()}$\")\n",
    "print(Car.__dict__)"
   ]
  },
  {
   "cell_type": "markdown",
   "id": "25beb9b4",
   "metadata": {},
   "source": [
    "# #3 CLASS METHOD AND STATIC METHOD\n",
    "Class Method trong python là một phương thức được liên kết với class chứ không phải đối tượng của Class..\n",
    "\n",
    "Chúng có quyền truy cập vào trạng thái của Class vì class method nhận một tham số class parameter trỏ đến class của nó chứ không phải đối tượng của class.\n",
    "\n",
    "**Sự khác biệt giữa Class Method và Static Method trong python:\n",
    "\n",
    "    + Class method sẽ lấy cls làm tham số đầu tiên trong static method không cần tham số cụ thể.\n",
    "\n",
    "    + Một Class method có thể truy cập hoặc sửa đổi trạng thái class trong khi một static method không thể truy cập hoặc sửa đổi nó.\n",
    "\n",
    "    + Nói chung, các static method không biết gì về trạng thái của class. Chúng là các method kiểu tiện ích (utility type methods) nhận một số tham số và hoạt động dựa trên các tham số đó. Mặt khác, các method của class method phải có class là một tham số."
   ]
  },
  {
   "cell_type": "markdown",
   "id": "3ea6f1d5",
   "metadata": {},
   "source": [
    "classmethod tác động đến biến tax"
   ]
  },
  {
   "cell_type": "code",
   "execution_count": 43,
   "id": "daac551c",
   "metadata": {},
   "outputs": [
    {
     "name": "stdout",
     "output_type": "stream",
     "text": [
      "1.5\n",
      "Price of i320 is 1050.0$\n",
      "Toyota 2020 500\n",
      "This is a expensive car\n",
      "This is a chip car\n"
     ]
    }
   ],
   "source": [
    "class Car():\n",
    "    tax = 1   # Thuế\n",
    "    car_number = 0\n",
    "    def __init__(self, brand, model, found_year, price):\n",
    "        self.brand = brand\n",
    "        self.model = model\n",
    "        self.found_year = found_year\n",
    "        self.price = price\n",
    "        self.car_number += 1  \n",
    "    def getValue(self):\n",
    "        # return (self.price * Car.tax)\n",
    "        return (self.price * self.tax)        \n",
    "    @classmethod\n",
    "    def setTax(cls):\n",
    "        cls.tax = 1.5\n",
    "\n",
    "    @classmethod\n",
    "    def carStr(cls, car_str):\n",
    "        brand, model, found_year, price = car_str.split('-')\n",
    "        found_year = int(found_year)\n",
    "        price = int(price)\n",
    "        return cls(brand, model, found_year, price) # Có thể gọi được hàm init\n",
    "    \n",
    "    @staticmethod\n",
    "    def checkPrice(price):\n",
    "        if price <= 1000:\n",
    "            return \"This is a chip car\"\n",
    "        else:\n",
    "            return \"This is a expensive car\"\n",
    "        \n",
    "vin = Car(\"Vinfast\", \"LuxA\", \"2017\", 1100)\n",
    "bmw = Car(\"BMW\", \"i320\", 1900, 700)\n",
    "bmw.setTax()\n",
    "print(Car.tax)\n",
    "print(f\"Price of {bmw.model} is {bmw.getValue()}$\")\n",
    "\n",
    "# Điển hình của classmethod\n",
    "tmp = \"Toyota-Lux-2020-500\"\n",
    "car = Car.carStr(tmp)\n",
    "print(car.brand, car.found_year, car.price) \n",
    "\n",
    "print(vin.checkPrice(vin.price))\n",
    "print(car.checkPrice(car.price))"
   ]
  },
  {
   "cell_type": "markdown",
   "id": "6fefafa2",
   "metadata": {},
   "source": [
    "# #4: TÍNH KẾ THỪA (INHERITANCE)\n",
    "\n",
    "Kế thừa (Inheritance) cho phép một lớp (class) có thể kế thừa các thuộc tính và phương thức từ các lớp khác đã được định nghĩa. Lớp đã có gọi là lớp cha (base class hoặc parent class), lớp mới phát sinh gọi là lớp con (child class hoặc derived class). Lớp con kế thừa tất cả thành phần của lớp cha, có thể mở rộng các thành phần kế thừa và bổ sung thêm các thành phần mới."
   ]
  },
  {
   "cell_type": "markdown",
   "id": "afc7a7c7",
   "metadata": {},
   "source": [
    "## Ưu điểm của Tính kế thừa\n",
    "Nhìn chung, Tính kế thừa có một số ưu điểm như sau:\n",
    "\n",
    "Tính kế thừa giúp tăng khả năng tái sử dụng. Khi một lớp kế thừa hoặc dẫn xuất một lớp khác, thì nó có thể truy cập tất cả các chức năng của lớp mà nó kế thừa.\n",
    "\n",
    "Khả năng tái sử dụng nâng cao độ tin cậy. Chúng ta chỉ cần kiểm tra và gỡ lỗi với mã lớp cha, chứ không cần kiểm tra từng lớp con.\n",
    "\n",
    "Khi mã được tái sử dụng, sẽ giúp giảm chi phí phát triển và bảo trì.\n",
    "\n",
    "Các lớp con sẽ tuân thủ theo một giao diện (interface) chuẩn.\n",
    "\n",
    "Tính kế thừa giúp hạn chế sự dư thừa mã và hỗ trợ khả năng mở rộng mã.\n",
    "\n",
    "Lập trình viên có điều kiện thuận lợi để tạo các thư viện lớp (class libraries).\n",
    "\n",
    "## Nhược điểm của Tính kế thừa\n",
    "Bên cạnh những ưu điểm nêu trên, Tính kế thừa có một số nhược điểm sau:\n",
    "\n",
    "Các chức năng được kế thừa hoạt động chậm hơn chức năng bình thường, vì nó được thực hiện gián tiếp (lấy từ lớp cha) chứ không phải trực tiếp.\n",
    "\n",
    "Thông thường, các dữ liệu thành viên trong lớp cha không được sử dụng. Điều này có thể dẫn đến lãng phí bộ nhớ.\n",
    "\n",
    "Tính kế thừa làm tăng sự kết nối giữa lớp cơ sở và lớp kế thừa. Một thay đổi trong lớp cha sẽ ảnh hưởng đến tất cả các lớp con.\n",
    "\n",
    "Nếu sử dụng Tính kế thừa không đúng cách có thể dẫn đến các cách giải quyết sai lầm sau này."
   ]
  },
  {
   "cell_type": "markdown",
   "id": "9bb71662",
   "metadata": {},
   "source": [
    "# #5: CÁC METHOD ĐẶC BIỆT TRONG CLASS (SPECIAL METHODS)"
   ]
  },
  {
   "cell_type": "markdown",
   "id": "0e7dc7ad",
   "metadata": {},
   "source": []
  },
  {
   "cell_type": "code",
   "execution_count": 44,
   "id": "75217a6c",
   "metadata": {},
   "outputs": [
    {
     "name": "stdout",
     "output_type": "stream",
     "text": [
      "Ten Mai Quan - Mai.Quan@gmail.com\n",
      "Ten Mai Quan - Mai.Quan@gmail.com\n",
      "Employee(Mai, Quan, 3000)\n"
     ]
    }
   ],
   "source": [
    "class Employee:\n",
    "    co_salary = 1.04\n",
    "    def __init__(self, first, last, pay):\n",
    "        self.first = first\n",
    "        self.last = last\n",
    "        self.mail = first + '.' + last + '@gmail.com'\n",
    "        self.pay = pay\n",
    "\n",
    "    def fullname(self):\n",
    "        return f\"Ten {self.first} {self.last}\"\n",
    "\n",
    "    def applySalary(self):\n",
    "        self.pay = int(self.pay * self.co_salary)\n",
    "        return self.pay\n",
    "\n",
    "    # representation (Ham nay tra ve str)\n",
    "    def __repr__(self):\n",
    "        return f\"Employee({self.first}, {self.last}, {self.pay})\"\n",
    "\n",
    "    def __str__(self):\n",
    "        return f\"{self.fullname()} - {self.mail}\"\n",
    "    \n",
    "    def __add__(self, other):\n",
    "        return self.pay + other.pay\n",
    "    \n",
    "    def __len__(self):\n",
    "        return len(self.fullname())\n",
    "    \n",
    "emp1 = Employee(\"Mai\", \"Quan\", 3000)\n",
    "emp2 = Employee(\"Nguyen\", \"Nam\", 2000)\n",
    "print(emp1)\n",
    "print(str(emp1))\n",
    "print(repr(emp1))"
   ]
  },
  {
   "cell_type": "markdown",
   "id": "e5a68523",
   "metadata": {},
   "source": [
    "Tại sao khi dùng lệnh `print(emp1)` lại in ra tên và gmail? Vì nó sẽ ưu tiên nhận hàm `__str__`()\n",
    "\n",
    "hàm `__repr__`() giúp chúng ta kiểm tra xem giá trị đưa vào có đúng với thuộc tính của class hay không\n",
    "\n",
    "còn hàm `__str__`() dùng để trả về cho người xem\n",
    "\n",
    "Nếu cho 2 hàm đó vào comment, các lệnh print() sẽ hiển thị bộ nhớ của đối tượng, vì khi gọi hàm print, Python sẽ tìm phương thức str, nếu k có, sẽ tìm repr, nếu cả 2 cũng không có, Python sẽ dùng phiên bản mặc định từ lớp Object, trả về địa chỉ bộ nhớ."
   ]
  },
  {
   "cell_type": "code",
   "execution_count": 45,
   "id": "493571eb",
   "metadata": {},
   "outputs": [
    {
     "name": "stdout",
     "output_type": "stream",
     "text": [
      "2025-05-21 13:05:44.567047\n",
      "datetime.datetime(2025, 5, 21, 13, 5, 44, 567047)\n"
     ]
    }
   ],
   "source": [
    "import datetime\n",
    "today = datetime.datetime.now()\n",
    "print(str(today))           # print readable format for datetime object\n",
    "print(repr(today))          # print the official format of datetime object\n"
   ]
  },
  {
   "cell_type": "markdown",
   "id": "2f9138f8",
   "metadata": {},
   "source": [
    "Các hàm mặc định khác trong class\n",
    "\n",
    "Hàm add: Nếu không có def `__add__`() dòng lệnh dưới sẽ bị lỗi"
   ]
  },
  {
   "cell_type": "code",
   "execution_count": 46,
   "id": "0a652500",
   "metadata": {},
   "outputs": [
    {
     "name": "stdout",
     "output_type": "stream",
     "text": [
      "5000\n",
      "3\n",
      "3\n"
     ]
    }
   ],
   "source": [
    "print(emp1 + emp2)\n",
    "print(1 + 2)\n",
    "print(int.__add__(1, 2))"
   ]
  },
  {
   "cell_type": "markdown",
   "id": "bc9a5b24",
   "metadata": {},
   "source": [
    "Hàm `__len__`() giúp trả về số lượng của tên nhân viên. Nhưng tại sao lại trả về 12 mà không phải 7? Vì hàm `fullname()` trả về `f\"Ten {self.first} {self.last}\"` nên nó tính thêm 2 dấu cách và 3 ký tự của chữ Ten "
   ]
  },
  {
   "cell_type": "code",
   "execution_count": 47,
   "id": "6d414d35",
   "metadata": {},
   "outputs": [
    {
     "name": "stdout",
     "output_type": "stream",
     "text": [
      "12\n",
      "12\n"
     ]
    }
   ],
   "source": [
    "print(emp1.__len__())\n",
    "print(len(emp1))"
   ]
  },
  {
   "cell_type": "markdown",
   "id": "3a7c564d",
   "metadata": {},
   "source": [
    "# #6: PROPERTY, GETTER, SETTER, DELETER!"
   ]
  },
  {
   "cell_type": "markdown",
   "id": "82fdaa6a",
   "metadata": {},
   "source": [
    "`@property` giúp chuyển hàm `fullname2()` sang 1 thuộc tính của class, nó là 1 dạng GETTER trong python\n",
    "\n",
    "`@property`: Cho phép dùng `car.fullname2()` như thuộc tính thay vì gọi hàm. Biến một phương thức thành thuộc tính (property), để truy cập không cần ngoặc\n",
    "\n",
    "`@fullname2.setter`: Cho phép gán lại `fullname2()` để thay đổi brand và model. Cho phép gán giá trị mới cho thuộc tính đã dùng `@property`\n",
    "\n",
    "`@fullname2.deleter`: Không nên return, chỉ nên in ra hoặc thực hiện hành động xóa.\tCho phép xóa thuộc tính bằng del"
   ]
  },
  {
   "cell_type": "code",
   "execution_count": 64,
   "id": "e82c978a",
   "metadata": {},
   "outputs": [
    {
     "name": "stdout",
     "output_type": "stream",
     "text": [
      "Vinfast Lux2A\n",
      "Vinfast Lux2A\n",
      "BMW-i20\n",
      "Deleted fullname!\n",
      "None None\n"
     ]
    }
   ],
   "source": [
    "class newCar(): # đặt tên mới để tránh bị trùng với class Car ở trên\n",
    "    def __init__(self, brand, model):\n",
    "        self.brand = brand\n",
    "        self.model = model\n",
    "\n",
    "    def fullname1(self):\n",
    "        return f\"{self.brand} {self.model}\"\n",
    "    @property\n",
    "    def fullname2(self):\n",
    "        return f\"{self.brand} {self.model}\" \n",
    "    \n",
    "    @fullname2.setter\n",
    "    def fullname2(self, namestr):\n",
    "        brand, model = namestr.split(' ')\n",
    "        self.brand = brand\n",
    "        self.model = model\n",
    "\n",
    "    @fullname2.deleter\n",
    "    def fullname2(self):\n",
    "        self.brand = None\n",
    "        self.model = None\n",
    "        print(f\"Deleted fullname!\")\n",
    "\n",
    "car = newCar(\"Vinfast\", \"Lux2A\")\n",
    "print(car.fullname1())\n",
    "print(car.fullname2)\n",
    "\n",
    "car.fullname2 = \"BMW i20\"\n",
    "print(f\"{car.brand}-{car.model}\")\n",
    "\n",
    "del car.fullname2\n",
    "print(car.brand, car.model)"
   ]
  },
  {
   "cell_type": "markdown",
   "id": "b370a389",
   "metadata": {},
   "source": [
    "# #7: TÍNH TRỪU TƯỢNG, ĐÓNG GÓI, ĐA HÌNH"
   ]
  },
  {
   "cell_type": "markdown",
   "id": "eb3500ad",
   "metadata": {},
   "source": [
    "## Tính đóng gói\n",
    "\n",
    "Có 3 kiểu biến: public, private, protected\n",
    "\n",
    "Muốn truy cập private hoặc protected, bạn không thể lấy ra trực tiếp, bạn phải tạo hàm `get_cosalary()`"
   ]
  },
  {
   "cell_type": "code",
   "execution_count": 67,
   "id": "7bac10d4",
   "metadata": {},
   "outputs": [],
   "source": [
    "class Employee:\n",
    "    co_salary1 = 1.04   #public\n",
    "    _co_salary2 = 1.05  #protected\n",
    "    __co_salary3 = 1.06 #private\n",
    "    def __init__(self, first, last, pay):\n",
    "        self.first = first\n",
    "        self.last = last\n",
    "        self.mail = first + '.' + last + '@gmail.com'\n",
    "        self.pay = pay\n",
    "\n",
    "    def fullname(self):\n",
    "        return f\"Ten {self.first} {self.last}\"\n",
    "\n",
    "    def applySalary(self):\n",
    "        self.pay = int(self.pay * self.co_salary)\n",
    "        return self.pay\n",
    "    \n",
    "    def get_cosalary(self):\n",
    "        return self.__co_salary3\n"
   ]
  },
  {
   "cell_type": "markdown",
   "id": "d6217903",
   "metadata": {},
   "source": [
    "## Tính đa hình:\n",
    "Trong Python, tính đa hình cho phép chúng ta định nghĩa các phương thức trong lớp con có cùng tên với các phương thức trong lớp cha. Trong kế thừa, lớp con kế thừa các phương thức từ lớp cha. Tuy nhiên, chúng cũng có thể sửa đổi một phương thức trong một lớp con mà nó đã kế thừa từ lớp cha. Điều này đặc biệt hữu ích trong trường hợp phương thức được kế thừa từ lớp cha không hoàn toàn phù hợp với lớp con.\n",
    "\n",
    "✅ Tính đa hình (Polymorphism) trong Python là gì?\n",
    "Đa hình là một tính chất trong lập trình hướng đối tượng, cho phép nhiều đối tượng khác nhau sử dụng chung một giao diện (interface) — nghĩa là cùng tên phương thức nhưng hành vi có thể khác nhau tùy đối tượng. Cùng một hành động, nhưng các đối tượng khác nhau phản ứng khác nhau."
   ]
  },
  {
   "cell_type": "code",
   "execution_count": 68,
   "id": "5b292888",
   "metadata": {},
   "outputs": [
    {
     "name": "stdout",
     "output_type": "stream",
     "text": [
      "Gâu gâu\n",
      "Meo meo\n"
     ]
    }
   ],
   "source": [
    "class Dog:\n",
    "    def sound(self):\n",
    "        return \"Gâu gâu\"\n",
    "\n",
    "class Cat:\n",
    "    def sound(self):\n",
    "        return \"Meo meo\"\n",
    "\n",
    "def animal_sound(animal):\n",
    "    print(animal.sound())\n",
    "\n",
    "d = Dog()\n",
    "c = Cat()\n",
    "\n",
    "animal_sound(d)  # Gâu gâu\n",
    "animal_sound(c)  # Meo meo\n"
   ]
  }
 ],
 "metadata": {
  "kernelspec": {
   "display_name": "Python 3",
   "language": "python",
   "name": "python3"
  },
  "language_info": {
   "codemirror_mode": {
    "name": "ipython",
    "version": 3
   },
   "file_extension": ".py",
   "mimetype": "text/x-python",
   "name": "python",
   "nbconvert_exporter": "python",
   "pygments_lexer": "ipython3",
   "version": "3.12.6"
  }
 },
 "nbformat": 4,
 "nbformat_minor": 5
}
